{
  "nbformat": 4,
  "nbformat_minor": 0,
  "metadata": {
    "colab": {
      "provenance": [],
      "authorship_tag": "ABX9TyObICe2yHWzpl+pEZpeMkwx",
      "include_colab_link": true
    },
    "kernelspec": {
      "name": "python3",
      "display_name": "Python 3"
    },
    "language_info": {
      "name": "python"
    }
  },
  "cells": [
    {
      "cell_type": "markdown",
      "metadata": {
        "id": "view-in-github",
        "colab_type": "text"
      },
      "source": [
        "<a href=\"https://colab.research.google.com/github/kunkunmaru/python_basic/blob/main/kadai_015.ipynb\" target=\"_parent\"><img src=\"https://colab.research.google.com/assets/colab-badge.svg\" alt=\"Open In Colab\"/></a>"
      ]
    },
    {
      "cell_type": "code",
      "execution_count": 6,
      "metadata": {
        "colab": {
          "base_uri": "https://localhost:8080/"
        },
        "id": "lolPMOHKpijR",
        "outputId": "e3caaa5a-bd5d-4f02-f4cb-2bd1f83df2bd"
      },
      "outputs": [
        {
          "output_type": "stream",
          "name": "stdout",
          "text": [
            "A 30\n"
          ]
        }
      ],
      "source": [
        "class Human:\n",
        "\n",
        "  def __init__ (self,name,age):\n",
        "    self.name=name\n",
        "    self.age = age\n",
        "\n",
        "human = Human(\"A\",30)\n",
        "print(human.name, human.age)\n"
      ]
    }
  ]
}