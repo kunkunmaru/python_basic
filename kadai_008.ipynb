{
  "nbformat": 4,
  "nbformat_minor": 0,
  "metadata": {
    "colab": {
      "provenance": [],
      "authorship_tag": "ABX9TyNUg4Xq00xVX12ImOv7BXUO",
      "include_colab_link": true
    },
    "kernelspec": {
      "name": "python3",
      "display_name": "Python 3"
    },
    "language_info": {
      "name": "python"
    }
  },
  "cells": [
    {
      "cell_type": "markdown",
      "metadata": {
        "id": "view-in-github",
        "colab_type": "text"
      },
      "source": [
        "<a href=\"https://colab.research.google.com/github/kunkunmaru/python_basic/blob/main/kadai_008.ipynb\" target=\"_parent\"><img src=\"https://colab.research.google.com/assets/colab-badge.svg\" alt=\"Open In Colab\"/></a>"
      ]
    },
    {
      "cell_type": "code",
      "execution_count": 14,
      "metadata": {
        "colab": {
          "base_uri": "https://localhost:8080/"
        },
        "id": "iK6xH_0OV1dq",
        "outputId": "0d45cd91-1b5c-4ea7-e4cc-422018789732"
      },
      "outputs": [
        {
          "output_type": "stream",
          "name": "stdout",
          "text": [
            "8\n",
            "8\n"
          ]
        }
      ],
      "source": [
        "import random\n",
        "ver = random.randint(0,20)\n",
        "\n",
        "print(ver)\n",
        "\n",
        "if ver % 3 == 0 and ver % 5 == 0:\n",
        "    print(\"FizzBuzz\")\n",
        "elif ver % 3 == 0:\n",
        "    print(\"Fizz\")\n",
        "elif ver  % 5 == 0:\n",
        "    print(\"Buzz\")\n",
        "else:\n",
        "    print(ver)"
      ]
    }
  ]
}