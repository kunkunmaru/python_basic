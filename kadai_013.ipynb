{
  "nbformat": 4,
  "nbformat_minor": 0,
  "metadata": {
    "colab": {
      "provenance": [],
      "authorship_tag": "ABX9TyPn9kjgjUpisy7gLWRC4FtU",
      "include_colab_link": true
    },
    "kernelspec": {
      "name": "python3",
      "display_name": "Python 3"
    },
    "language_info": {
      "name": "python"
    }
  },
  "cells": [
    {
      "cell_type": "markdown",
      "metadata": {
        "id": "view-in-github",
        "colab_type": "text"
      },
      "source": [
        "<a href=\"https://colab.research.google.com/github/kunkunmaru/python_basic/blob/main/kadai_013.ipynb\" target=\"_parent\"><img src=\"https://colab.research.google.com/assets/colab-badge.svg\" alt=\"Open In Colab\"/></a>"
      ]
    },
    {
      "cell_type": "code",
      "execution_count": 11,
      "metadata": {
        "id": "UyxhyMgknfE4"
      },
      "outputs": [],
      "source": [
        "def cal_total(price,tax):\n",
        "  total = price + (price * tax)\n",
        "\n",
        "  print(f\"{price}円\")\n",
        "  print(f\"{total}円\")\n"
      ]
    }
  ]
}